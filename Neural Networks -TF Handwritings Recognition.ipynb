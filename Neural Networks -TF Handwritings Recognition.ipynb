{
 "cells": [
  {
   "cell_type": "markdown",
   "metadata": {
    "colab_type": "text",
    "id": "tRaLONqOFom3"
   },
   "source": [
    "# Importuri"
   ]
  },
  {
   "cell_type": "code",
   "execution_count": 1,
   "metadata": {
    "colab": {},
    "colab_type": "code",
    "id": "K88GTPY6Fom4"
   },
   "outputs": [],
   "source": [
    "from numpy.random import seed\n",
    "seed(888)\n",
    "# from tensorflow import set_random_seed\n",
    "# set_random_seed(404)\n",
    "import tensorflow as tf\n",
    "tf.random.set_seed(404)\n"
   ]
  },
  {
   "cell_type": "code",
   "execution_count": 2,
   "metadata": {
    "colab": {},
    "colab_type": "code",
    "id": "Rbmwo82jFom9"
   },
   "outputs": [],
   "source": [
    "import os\n",
    "import numpy as np\n",
    "import tensorflow as tf\n",
    "\n",
    "from time import strftime\n",
    "from PIL import Image"
   ]
  },
  {
   "cell_type": "markdown",
   "metadata": {
    "colab_type": "text",
    "id": "SBYOCcfKFonB"
   },
   "source": [
    "# Constante"
   ]
  },
  {
   "cell_type": "code",
   "execution_count": 3,
   "metadata": {
    "colab": {},
    "colab_type": "code",
    "id": "Gglu7EqGFonB"
   },
   "outputs": [],
   "source": [
    "X_TRAIN_PATH = 'MNIST/digit_xtrain.csv'\n",
    "X_TEST_PATH = 'MNIST/digit_xtest.csv'\n",
    "Y_TRAIN_PATH = 'MNIST/digit_ytrain.csv'\n",
    "Y_TEST_PATH = 'MNIST/digit_ytest.csv'\n",
    "\n",
    "NR_CLASSES = 10\n",
    "VALIDATION_SIZE = 10000\n",
    "IMAGE_WIDTH = 28\n",
    "IMAGE_HEIGHT = 28\n",
    "CHANNELS = 1\n",
    "TOTAL_INPUTS = IMAGE_WIDTH * IMAGE_HEIGHT * CHANNELS"
   ]
  },
  {
   "cell_type": "markdown",
   "metadata": {
    "colab_type": "text",
    "id": "G-PPi40mFonF"
   },
   "source": [
    "# Optinerea Datelor"
   ]
  },
  {
   "cell_type": "code",
   "execution_count": 4,
   "metadata": {
    "colab": {
     "base_uri": "https://localhost:8080/",
     "height": 50
    },
    "colab_type": "code",
    "executionInfo": {
     "elapsed": 957,
     "status": "ok",
     "timestamp": 1588015550401,
     "user": {
      "displayName": "Marius Robert",
      "photoUrl": "https://lh3.googleusercontent.com/a-/AOh14GjaLM2H8202sKHOvW7TqnMkERnXQqLHZxjUUQp2QA=s64",
      "userId": "05121221981387851592"
     },
     "user_tz": -180
    },
    "id": "oYLHw84eFonF",
    "outputId": "b93ac982-5bdb-4bb0-a3b7-811efbdaf68f"
   },
   "outputs": [
    {
     "output_type": "stream",
     "name": "stdout",
     "text": "Wall time: 248 ms\n"
    }
   ],
   "source": [
    "%%time\n",
    "y_train_all = np.loadtxt(Y_TRAIN_PATH, delimiter=',', dtype=int)"
   ]
  },
  {
   "cell_type": "code",
   "execution_count": 5,
   "metadata": {
    "colab": {
     "base_uri": "https://localhost:8080/",
     "height": 34
    },
    "colab_type": "code",
    "executionInfo": {
     "elapsed": 641,
     "status": "ok",
     "timestamp": 1588015555140,
     "user": {
      "displayName": "Marius Robert",
      "photoUrl": "https://lh3.googleusercontent.com/a-/AOh14GjaLM2H8202sKHOvW7TqnMkERnXQqLHZxjUUQp2QA=s64",
      "userId": "05121221981387851592"
     },
     "user_tz": -180
    },
    "id": "BFhqLE2XFonK",
    "outputId": "aaff21c7-5e03-41b7-e8a1-8f11f52d2499"
   },
   "outputs": [
    {
     "output_type": "execute_result",
     "data": {
      "text/plain": "(60000,)"
     },
     "metadata": {},
     "execution_count": 5
    }
   ],
   "source": [
    "y_train_all.shape"
   ]
  },
  {
   "cell_type": "code",
   "execution_count": 6,
   "metadata": {
    "colab": {},
    "colab_type": "code",
    "id": "yYA67UcoFonN"
   },
   "outputs": [],
   "source": [
    "y_test = np.loadtxt(Y_TEST_PATH, delimiter=',', dtype=int)"
   ]
  },
  {
   "cell_type": "code",
   "execution_count": 7,
   "metadata": {
    "colab": {
     "base_uri": "https://localhost:8080/",
     "height": 50
    },
    "colab_type": "code",
    "executionInfo": {
     "elapsed": 7837,
     "status": "ok",
     "timestamp": 1588015586587,
     "user": {
      "displayName": "Marius Robert",
      "photoUrl": "https://lh3.googleusercontent.com/a-/AOh14GjaLM2H8202sKHOvW7TqnMkERnXQqLHZxjUUQp2QA=s64",
      "userId": "05121221981387851592"
     },
     "user_tz": -180
    },
    "id": "khqagmm0FonS",
    "outputId": "71264362-459e-45c6-816e-c2fa8277cfcc"
   },
   "outputs": [
    {
     "output_type": "stream",
     "name": "stdout",
     "text": "Wall time: 45 s\n"
    }
   ],
   "source": [
    "%%time\n",
    "x_train_all = np.loadtxt(X_TRAIN_PATH, delimiter=',', dtype=int)"
   ]
  },
  {
   "cell_type": "code",
   "execution_count": 8,
   "metadata": {
    "colab": {
     "base_uri": "https://localhost:8080/",
     "height": 50
    },
    "colab_type": "code",
    "executionInfo": {
     "elapsed": 587,
     "status": "ok",
     "timestamp": 1588015589801,
     "user": {
      "displayName": "Marius Robert",
      "photoUrl": "https://lh3.googleusercontent.com/a-/AOh14GjaLM2H8202sKHOvW7TqnMkERnXQqLHZxjUUQp2QA=s64",
      "userId": "05121221981387851592"
     },
     "user_tz": -180
    },
    "id": "yw9iPc9eFonW",
    "outputId": "8dfa5d13-a01b-479e-e6fd-190b69e7a93a"
   },
   "outputs": [
    {
     "output_type": "stream",
     "name": "stdout",
     "text": "Wall time: 6.7 s\n"
    }
   ],
   "source": [
    "%%time\n",
    "\n",
    "x_test = np.loadtxt(X_TEST_PATH, delimiter=',', dtype=int)"
   ]
  },
  {
   "cell_type": "markdown",
   "metadata": {
    "colab_type": "text",
    "id": "KkaqM9XpFonZ"
   },
   "source": [
    "# Explorare"
   ]
  },
  {
   "cell_type": "code",
   "execution_count": 9,
   "metadata": {
    "colab": {
     "base_uri": "https://localhost:8080/",
     "height": 34
    },
    "colab_type": "code",
    "executionInfo": {
     "elapsed": 580,
     "status": "ok",
     "timestamp": 1588015592481,
     "user": {
      "displayName": "Marius Robert",
      "photoUrl": "https://lh3.googleusercontent.com/a-/AOh14GjaLM2H8202sKHOvW7TqnMkERnXQqLHZxjUUQp2QA=s64",
      "userId": "05121221981387851592"
     },
     "user_tz": -180
    },
    "id": "Hz8q0IKMFona",
    "outputId": "1b4b284e-a1c3-4054-f028-abb782b034d5"
   },
   "outputs": [
    {
     "output_type": "execute_result",
     "data": {
      "text/plain": "(60000, 784)"
     },
     "metadata": {},
     "execution_count": 9
    }
   ],
   "source": [
    "x_train_all.shape"
   ]
  },
  {
   "cell_type": "code",
   "execution_count": 10,
   "metadata": {
    "colab": {
     "base_uri": "https://localhost:8080/",
     "height": 1000
    },
    "colab_type": "code",
    "executionInfo": {
     "elapsed": 609,
     "status": "ok",
     "timestamp": 1588015615872,
     "user": {
      "displayName": "Marius Robert",
      "photoUrl": "https://lh3.googleusercontent.com/a-/AOh14GjaLM2H8202sKHOvW7TqnMkERnXQqLHZxjUUQp2QA=s64",
      "userId": "05121221981387851592"
     },
     "user_tz": -180
    },
    "id": "62mJ5YBCFone",
    "outputId": "9b9e3d2c-6605-4598-e848-673bb8ea7e60"
   },
   "outputs": [
    {
     "output_type": "execute_result",
     "data": {
      "text/plain": "array([  0,   0,   0,   0,   0,   0,   0,   0,   0,   0,   0,   0,   0,\n         0,   0,   0,   0,   0,   0,   0,   0,   0,   0,   0,   0,   0,\n         0,   0,   0,   0,   0,   0,   0,   0,   0,   0,   0,   0,   0,\n         0,   0,   0,   0,   0,   0,   0,   0,   0,   0,   0,   0,   0,\n         0,   0,   0,   0,   0,   0,   0,   0,   0,   0,   0,   0,   0,\n         0,   0,   0,   0,   0,   0,   0,   0,   0,   0,   0,   0,   0,\n         0,   0,   0,   0,   0,   0,   0,   0,   0,   0,   0,   0,   0,\n         0,   0,   0,   0,   0,   0,   0,   0,   0,   0,   0,   0,   0,\n         0,   0,   0,   0,   0,   0,   0,   0,   0,   0,   0,   0,   0,\n         0,   0,   0,   0,   0,   0,   0,   0,   0,   0,   0,   0,   0,\n         0,   0,   0,   0,   0,   0,   0,   0,   0,   0,   0,   0,   0,\n         0,   0,   0,   0,   0,   0,   0,   0,   0,   3,  18,  18,  18,\n       126, 136, 175,  26, 166, 255, 247, 127,   0,   0,   0,   0,   0,\n         0,   0,   0,   0,   0,   0,   0,  30,  36,  94, 154, 170, 253,\n       253, 253, 253, 253, 225, 172, 253, 242, 195,  64,   0,   0,   0,\n         0,   0,   0,   0,   0,   0,   0,   0,  49, 238, 253, 253, 253,\n       253, 253, 253, 253, 253, 251,  93,  82,  82,  56,  39,   0,   0,\n         0,   0,   0,   0,   0,   0,   0,   0,   0,   0,  18, 219, 253,\n       253, 253, 253, 253, 198, 182, 247, 241,   0,   0,   0,   0,   0,\n         0,   0,   0,   0,   0,   0,   0,   0,   0,   0,   0,   0,   0,\n        80, 156, 107, 253, 253, 205,  11,   0,  43, 154,   0,   0,   0,\n         0,   0,   0,   0,   0,   0,   0,   0,   0,   0,   0,   0,   0,\n         0,   0,   0,  14,   1, 154, 253,  90,   0,   0,   0,   0,   0,\n         0,   0,   0,   0,   0,   0,   0,   0,   0,   0,   0,   0,   0,\n         0,   0,   0,   0,   0,   0,   0, 139, 253, 190,   2,   0,   0,\n         0,   0,   0,   0,   0,   0,   0,   0,   0,   0,   0,   0,   0,\n         0,   0,   0,   0,   0,   0,   0,   0,   0,  11, 190, 253,  70,\n         0,   0,   0,   0,   0,   0,   0,   0,   0,   0,   0,   0,   0,\n         0,   0,   0,   0,   0,   0,   0,   0,   0,   0,   0,   0,  35,\n       241, 225, 160, 108,   1,   0,   0,   0,   0,   0,   0,   0,   0,\n         0,   0,   0,   0,   0,   0,   0,   0,   0,   0,   0,   0,   0,\n         0,   0,  81, 240, 253, 253, 119,  25,   0,   0,   0,   0,   0,\n         0,   0,   0,   0,   0,   0,   0,   0,   0,   0,   0,   0,   0,\n         0,   0,   0,   0,   0,  45, 186, 253, 253, 150,  27,   0,   0,\n         0,   0,   0,   0,   0,   0,   0,   0,   0,   0,   0,   0,   0,\n         0,   0,   0,   0,   0,   0,   0,   0,  16,  93, 252, 253, 187,\n         0,   0,   0,   0,   0,   0,   0,   0,   0,   0,   0,   0,   0,\n         0,   0,   0,   0,   0,   0,   0,   0,   0,   0,   0,   0, 249,\n       253, 249,  64,   0,   0,   0,   0,   0,   0,   0,   0,   0,   0,\n         0,   0,   0,   0,   0,   0,   0,   0,   0,   0,   0,  46, 130,\n       183, 253, 253, 207,   2,   0,   0,   0,   0,   0,   0,   0,   0,\n         0,   0,   0,   0,   0,   0,   0,   0,   0,   0,   0,  39, 148,\n       229, 253, 253, 253, 250, 182,   0,   0,   0,   0,   0,   0,   0,\n         0,   0,   0,   0,   0,   0,   0,   0,   0,   0,   0,  24, 114,\n       221, 253, 253, 253, 253, 201,  78,   0,   0,   0,   0,   0,   0,\n         0,   0,   0,   0,   0,   0,   0,   0,   0,   0,   0,  23,  66,\n       213, 253, 253, 253, 253, 198,  81,   2,   0,   0,   0,   0,   0,\n         0,   0,   0,   0,   0,   0,   0,   0,   0,   0,   0,  18, 171,\n       219, 253, 253, 253, 253, 195,  80,   9,   0,   0,   0,   0,   0,\n         0,   0,   0,   0,   0,   0,   0,   0,   0,   0,   0,  55, 172,\n       226, 253, 253, 253, 253, 244, 133,  11,   0,   0,   0,   0,   0,\n         0,   0,   0,   0,   0,   0,   0,   0,   0,   0,   0,   0,   0,\n       136, 253, 253, 253, 212, 135, 132,  16,   0,   0,   0,   0,   0,\n         0,   0,   0,   0,   0,   0,   0,   0,   0,   0,   0,   0,   0,\n         0,   0,   0,   0,   0,   0,   0,   0,   0,   0,   0,   0,   0,\n         0,   0,   0,   0,   0,   0,   0,   0,   0,   0,   0,   0,   0,\n         0,   0,   0,   0,   0,   0,   0,   0,   0,   0,   0,   0,   0,\n         0,   0,   0,   0,   0,   0,   0,   0,   0,   0,   0,   0,   0,\n         0,   0,   0,   0,   0,   0,   0,   0,   0,   0,   0,   0,   0,\n         0,   0,   0,   0,   0,   0,   0,   0,   0,   0,   0,   0,   0,\n         0,   0,   0,   0])"
     },
     "metadata": {},
     "execution_count": 10
    }
   ],
   "source": [
    "x_train_all[0]"
   ]
  },
  {
   "cell_type": "code",
   "execution_count": 11,
   "metadata": {
    "colab": {
     "base_uri": "https://localhost:8080/",
     "height": 34
    },
    "colab_type": "code",
    "executionInfo": {
     "elapsed": 689,
     "status": "ok",
     "timestamp": 1588015622733,
     "user": {
      "displayName": "Marius Robert",
      "photoUrl": "https://lh3.googleusercontent.com/a-/AOh14GjaLM2H8202sKHOvW7TqnMkERnXQqLHZxjUUQp2QA=s64",
      "userId": "05121221981387851592"
     },
     "user_tz": -180
    },
    "id": "VECPo3PpFoni",
    "outputId": "d430fca8-213d-49fa-a27a-9c831040c236"
   },
   "outputs": [
    {
     "output_type": "execute_result",
     "data": {
      "text/plain": "(60000,)"
     },
     "metadata": {},
     "execution_count": 11
    }
   ],
   "source": [
    "y_train_all.shape"
   ]
  },
  {
   "cell_type": "code",
   "execution_count": 12,
   "metadata": {
    "colab": {
     "base_uri": "https://localhost:8080/",
     "height": 34
    },
    "colab_type": "code",
    "executionInfo": {
     "elapsed": 620,
     "status": "ok",
     "timestamp": 1588015624260,
     "user": {
      "displayName": "Marius Robert",
      "photoUrl": "https://lh3.googleusercontent.com/a-/AOh14GjaLM2H8202sKHOvW7TqnMkERnXQqLHZxjUUQp2QA=s64",
      "userId": "05121221981387851592"
     },
     "user_tz": -180
    },
    "id": "G9TZTew2Fonn",
    "outputId": "22768271-c0be-420b-bac0-76f97c649d78"
   },
   "outputs": [
    {
     "output_type": "execute_result",
     "data": {
      "text/plain": "(10000, 784)"
     },
     "metadata": {},
     "execution_count": 12
    }
   ],
   "source": [
    "x_test.shape"
   ]
  },
  {
   "cell_type": "code",
   "execution_count": 13,
   "metadata": {
    "colab": {
     "base_uri": "https://localhost:8080/",
     "height": 34
    },
    "colab_type": "code",
    "executionInfo": {
     "elapsed": 669,
     "status": "ok",
     "timestamp": 1588015626961,
     "user": {
      "displayName": "Marius Robert",
      "photoUrl": "https://lh3.googleusercontent.com/a-/AOh14GjaLM2H8202sKHOvW7TqnMkERnXQqLHZxjUUQp2QA=s64",
      "userId": "05121221981387851592"
     },
     "user_tz": -180
    },
    "id": "ED6-9ZSRFons",
    "outputId": "105d6a48-3d46-4d79-b70b-576e68cac16b"
   },
   "outputs": [
    {
     "output_type": "execute_result",
     "data": {
      "text/plain": "array([5, 0, 4, 1, 9])"
     },
     "metadata": {},
     "execution_count": 13
    }
   ],
   "source": [
    "y_train_all[:5]"
   ]
  },
  {
   "cell_type": "markdown",
   "metadata": {
    "colab_type": "text",
    "id": "6NMX8nofFonv"
   },
   "source": [
    "# Data Pre-Procesare"
   ]
  },
  {
   "cell_type": "code",
   "execution_count": 14,
   "metadata": {
    "colab": {},
    "colab_type": "code",
    "id": "9j9hsNMwFonw"
   },
   "outputs": [],
   "source": [
    "# Re-scalare\n",
    "x_train_all, x_test = x_train_all /255.0, x_test / 255.0# transforma int in float"
   ]
  },
  {
   "cell_type": "markdown",
   "metadata": {
    "colab_type": "text",
    "id": "7AQg0SQGFonz"
   },
   "source": [
    "# Convet valorile target catre one-hot encode"
   ]
  },
  {
   "cell_type": "code",
   "execution_count": 15,
   "metadata": {
    "colab": {},
    "colab_type": "code",
    "id": "C6J9xO3DFon0",
    "outputId": "91231444-11c7-4e3f-f43d-19c10d014f63"
   },
   "outputs": [
    {
     "output_type": "execute_result",
     "data": {
      "text/plain": "array([[0., 0., 0., 0., 0., 1., 0., 0., 0., 0.],\n       [1., 0., 0., 0., 0., 0., 0., 0., 0., 0.],\n       [0., 0., 0., 0., 1., 0., 0., 0., 0., 0.],\n       [0., 1., 0., 0., 0., 0., 0., 0., 0., 0.],\n       [0., 0., 0., 0., 0., 0., 0., 0., 0., 1.]])"
     },
     "metadata": {},
     "execution_count": 15
    }
   ],
   "source": [
    "values = y_train_all[:5]\n",
    "np.eye(10)[values]"
   ]
  },
  {
   "cell_type": "code",
   "execution_count": 16,
   "metadata": {
    "colab": {
     "base_uri": "https://localhost:8080/",
     "height": 185
    },
    "colab_type": "code",
    "executionInfo": {
     "elapsed": 661,
     "status": "ok",
     "timestamp": 1588015648793,
     "user": {
      "displayName": "Marius Robert",
      "photoUrl": "https://lh3.googleusercontent.com/a-/AOh14GjaLM2H8202sKHOvW7TqnMkERnXQqLHZxjUUQp2QA=s64",
      "userId": "05121221981387851592"
     },
     "user_tz": -180
    },
    "id": "P44NDnxuFon3",
    "outputId": "4a7ac8cf-773e-42cd-923e-dbe9614cd61e"
   },
   "outputs": [
    {
     "output_type": "execute_result",
     "data": {
      "text/plain": "array([[1., 0., 0., 0., 0., 0., 0., 0., 0., 0.],\n       [0., 1., 0., 0., 0., 0., 0., 0., 0., 0.],\n       [0., 0., 1., 0., 0., 0., 0., 0., 0., 0.],\n       [0., 0., 0., 1., 0., 0., 0., 0., 0., 0.],\n       [0., 0., 0., 0., 1., 0., 0., 0., 0., 0.],\n       [0., 0., 0., 0., 0., 1., 0., 0., 0., 0.],\n       [0., 0., 0., 0., 0., 0., 1., 0., 0., 0.],\n       [0., 0., 0., 0., 0., 0., 0., 1., 0., 0.],\n       [0., 0., 0., 0., 0., 0., 0., 0., 1., 0.],\n       [0., 0., 0., 0., 0., 0., 0., 0., 0., 1.]])"
     },
     "metadata": {},
     "execution_count": 16
    }
   ],
   "source": [
    "np.eye(10)"
   ]
  },
  {
   "cell_type": "code",
   "execution_count": 17,
   "metadata": {
    "colab": {
     "base_uri": "https://localhost:8080/",
     "height": 34
    },
    "colab_type": "code",
    "executionInfo": {
     "elapsed": 756,
     "status": "ok",
     "timestamp": 1588015653512,
     "user": {
      "displayName": "Marius Robert",
      "photoUrl": "https://lh3.googleusercontent.com/a-/AOh14GjaLM2H8202sKHOvW7TqnMkERnXQqLHZxjUUQp2QA=s64",
      "userId": "05121221981387851592"
     },
     "user_tz": -180
    },
    "id": "tZpM55WfFon7",
    "outputId": "8a4c6cab-fec0-41f9-c112-e88d1f45615c"
   },
   "outputs": [
    {
     "output_type": "execute_result",
     "data": {
      "text/plain": "array([0., 0., 1., 0., 0., 0., 0., 0., 0., 0.])"
     },
     "metadata": {},
     "execution_count": 17
    }
   ],
   "source": [
    "np.eye(10)[2]"
   ]
  },
  {
   "cell_type": "code",
   "execution_count": 18,
   "metadata": {},
   "outputs": [
    {
     "output_type": "execute_result",
     "data": {
      "text/plain": "array([5, 0, 4, 1, 9])"
     },
     "metadata": {},
     "execution_count": 18
    }
   ],
   "source": [
    "values"
   ]
  },
  {
   "cell_type": "code",
   "execution_count": 19,
   "metadata": {},
   "outputs": [
    {
     "output_type": "execute_result",
     "data": {
      "text/plain": "9"
     },
     "metadata": {},
     "execution_count": 19
    }
   ],
   "source": [
    "values[4]"
   ]
  },
  {
   "cell_type": "code",
   "execution_count": 20,
   "metadata": {
    "colab": {},
    "colab_type": "code",
    "id": "-u_ecCQCFon-"
   },
   "outputs": [],
   "source": [
    "y_train_all = np.eye(NR_CLASSES)[y_train_all]"
   ]
  },
  {
   "cell_type": "code",
   "execution_count": 21,
   "metadata": {
    "colab": {
     "base_uri": "https://localhost:8080/",
     "height": 34
    },
    "colab_type": "code",
    "executionInfo": {
     "elapsed": 624,
     "status": "ok",
     "timestamp": 1588015657014,
     "user": {
      "displayName": "Marius Robert",
      "photoUrl": "https://lh3.googleusercontent.com/a-/AOh14GjaLM2H8202sKHOvW7TqnMkERnXQqLHZxjUUQp2QA=s64",
      "userId": "05121221981387851592"
     },
     "user_tz": -180
    },
    "id": "xWtbLRweFooC",
    "outputId": "72b7521e-774a-4e82-9239-25183623e3b7"
   },
   "outputs": [
    {
     "output_type": "execute_result",
     "data": {
      "text/plain": "(60000, 10)"
     },
     "metadata": {},
     "execution_count": 21
    }
   ],
   "source": [
    "y_train_all.shape"
   ]
  },
  {
   "cell_type": "code",
   "execution_count": 22,
   "metadata": {
    "colab": {},
    "colab_type": "code",
    "id": "iXqTEirJFooF"
   },
   "outputs": [],
   "source": [
    "y_test = np.eye(NR_CLASSES)[y_test]"
   ]
  },
  {
   "cell_type": "code",
   "execution_count": 23,
   "metadata": {
    "colab": {
     "base_uri": "https://localhost:8080/",
     "height": 34
    },
    "colab_type": "code",
    "executionInfo": {
     "elapsed": 684,
     "status": "ok",
     "timestamp": 1588015660610,
     "user": {
      "displayName": "Marius Robert",
      "photoUrl": "https://lh3.googleusercontent.com/a-/AOh14GjaLM2H8202sKHOvW7TqnMkERnXQqLHZxjUUQp2QA=s64",
      "userId": "05121221981387851592"
     },
     "user_tz": -180
    },
    "id": "Pz6P04j2FooI",
    "outputId": "15b8be19-e865-4ade-dc51-f030068e5d31"
   },
   "outputs": [
    {
     "output_type": "execute_result",
     "data": {
      "text/plain": "(10000, 10)"
     },
     "metadata": {},
     "execution_count": 23
    }
   ],
   "source": [
    "y_test.shape"
   ]
  },
  {
   "cell_type": "markdown",
   "metadata": {
    "colab_type": "text",
    "id": "pK_ri7grFooL"
   },
   "source": [
    "# Creare Validare dataset din training data"
   ]
  },
  {
   "cell_type": "markdown",
   "metadata": {
    "colab_type": "text",
    "id": "9-yDyoWJFooM"
   },
   "source": [
    "** Provocare: ** Împărțit setul de date de formare într-un set de date de antrenament mai mic și un set de date de validare pentru caracteristici și etichete. Creați patru tablouri: `` `x_val```,` `y_val```,` `x_train``` și` `y_train``` de la` `x_train_all``` și` `y_train_all` ``. Utilizați dimensiunea de validare de 10.000."
   ]
  },
  {
   "cell_type": "code",
   "execution_count": 24,
   "metadata": {
    "colab": {},
    "colab_type": "code",
    "id": "wu-u-KelFooM"
   },
   "outputs": [],
   "source": [
    "x_val = x_train_all[:VALIDATION_SIZE]\n",
    "y_val = y_train_all[:VALIDATION_SIZE]"
   ]
  },
  {
   "cell_type": "code",
   "execution_count": 25,
   "metadata": {
    "colab": {},
    "colab_type": "code",
    "id": "Fn7FapehFooP"
   },
   "outputs": [],
   "source": [
    "x_train = x_train_all[VALIDATION_SIZE:]\n",
    "y_train = y_train_all[VALIDATION_SIZE:]"
   ]
  },
  {
   "cell_type": "code",
   "execution_count": 26,
   "metadata": {
    "colab": {
     "base_uri": "https://localhost:8080/",
     "height": 34
    },
    "colab_type": "code",
    "executionInfo": {
     "elapsed": 585,
     "status": "ok",
     "timestamp": 1588015672252,
     "user": {
      "displayName": "Marius Robert",
      "photoUrl": "https://lh3.googleusercontent.com/a-/AOh14GjaLM2H8202sKHOvW7TqnMkERnXQqLHZxjUUQp2QA=s64",
      "userId": "05121221981387851592"
     },
     "user_tz": -180
    },
    "id": "2n0e8AbQFooT",
    "outputId": "fc3fec6f-dbf5-477c-9191-05c126ced5ee"
   },
   "outputs": [
    {
     "output_type": "execute_result",
     "data": {
      "text/plain": "(50000, 784)"
     },
     "metadata": {},
     "execution_count": 26
    }
   ],
   "source": [
    "x_train.shape"
   ]
  },
  {
   "cell_type": "code",
   "execution_count": 27,
   "metadata": {
    "colab": {
     "base_uri": "https://localhost:8080/",
     "height": 34
    },
    "colab_type": "code",
    "executionInfo": {
     "elapsed": 607,
     "status": "ok",
     "timestamp": 1588015674437,
     "user": {
      "displayName": "Marius Robert",
      "photoUrl": "https://lh3.googleusercontent.com/a-/AOh14GjaLM2H8202sKHOvW7TqnMkERnXQqLHZxjUUQp2QA=s64",
      "userId": "05121221981387851592"
     },
     "user_tz": -180
    },
    "id": "q560xcl6FooY",
    "outputId": "d985a810-2ac9-4c9f-f1b3-f332506c7755"
   },
   "outputs": [
    {
     "output_type": "execute_result",
     "data": {
      "text/plain": "(10000, 784)"
     },
     "metadata": {},
     "execution_count": 27
    }
   ],
   "source": [
    "x_val.shape"
   ]
  },
  {
   "cell_type": "markdown",
   "metadata": {
    "colab_type": "text",
    "id": "UXUqFSJQFood"
   },
   "source": [
    "# Tensor\n",
    "# salar este o mărime fizică complet determinată numai prin valoarea sa numerică (număr real) si are un rank 0 \n",
    "# o colona cu numere se numesc vectori/Array, acest array are o singura dimensiune si are un rank 1 \n",
    "# cate o data avem mai multe numere si vom lucre cu data frame ori matrici ,aceasta matrice/dataframe are 2 dimensiuni adica randuri si coloane.si are un rank 2 \n",
    "# cand adugam a treia dimensiune format din 3 matrici/dataframe => tensor. Un cub de numere. aseta are un rank 3.  este numit tesor tot ce are  3 dimensiuni sau mai multe dimensiuni"
   ]
  },
  {
   "cell_type": "markdown",
   "metadata": {
    "colab_type": "text",
    "id": "msgkwtUdFood"
   },
   "source": [
    "# Setup TensorFlow Graph"
   ]
  },
  {
   "cell_type": "code",
   "execution_count": 28,
   "metadata": {
    "colab": {
     "base_uri": "https://localhost:8080/",
     "height": 34
    },
    "colab_type": "code",
    "executionInfo": {
     "elapsed": 598,
     "status": "ok",
     "timestamp": 1588015683931,
     "user": {
      "displayName": "Marius Robert",
      "photoUrl": "https://lh3.googleusercontent.com/a-/AOh14GjaLM2H8202sKHOvW7TqnMkERnXQqLHZxjUUQp2QA=s64",
      "userId": "05121221981387851592"
     },
     "user_tz": -180
    },
    "id": "bgV01AdvFooe",
    "outputId": "287ecdf1-5db0-411c-b0f6-71265b5c5d06"
   },
   "outputs": [
    {
     "output_type": "stream",
     "name": "stdout",
     "text": "Versiunea de TensorFlow este 2.1.0\n"
    }
   ],
   "source": [
    "print('Versiunea de TensorFlow este', tf.__version__)\n",
    "tf.compat.v1.disable_eager_execution()"
   ]
  },
  {
   "cell_type": "markdown",
   "metadata": {
    "colab_type": "text",
    "id": "S6hgHfGyFooh"
   },
   "source": [
    "# Codul de mai jos din versiunea de tensorflow V1 a fos re-scris pentru a functiona cu versiunea de tensorflow V2(v2.1.0)"
   ]
  },
  {
   "cell_type": "code",
   "execution_count": 29,
   "metadata": {
    "colab": {},
    "colab_type": "code",
    "id": "qRmU5qnkFooi"
   },
   "outputs": [],
   "source": [
    "\n",
    "X = tf.compat.v1.placeholder(tf.float32, shape=[None, TOTAL_INPUTS], name='X')#placehoder pentru features\n",
    "Y = tf.compat.v1.placeholder(tf.float32, shape=[None, NR_CLASSES], name='labels')#placeholder pentru labels/categori"
   ]
  },
  {
   "cell_type": "markdown",
   "metadata": {
    "colab_type": "text",
    "id": "lbPgiPImFook"
   },
   "source": [
    "# Arhitectura  Neural Network\n",
    "# Hyperparameters \n",
    "### Hiperrametrii sunt practic lucruri pe care le vom determina înainte de timp. Așadar, acestea sunt lucruri de genul cât timp ne antrenăm modelul pentru numărul de epoci utilizate pentru formarea ritmului de învățare utilizat în optimizatorul nostru, numărul de straturi din NN-ul nostru, numărul de noduri pe strat, toate aceste lucruri sunt hiperparametri"
   ]
  },
  {
   "cell_type": "code",
   "execution_count": 30,
   "metadata": {
    "colab": {},
    "colab_type": "code",
    "id": "aYHzlC4_Fool"
   },
   "outputs": [],
   "source": [
    "nr_epochs = 5\n",
    "learning_rate = 0.0001 # in notatie stintifica acest 0.0001 este reprezentat de le-4\n",
    "\n",
    "n_hidden1 = 512\n",
    "n_hidden2 = 64\n",
    "n_output = 10"
   ]
  },
  {
   "cell_type": "markdown",
   "metadata": {},
   "source": [
    "# Metoda 1"
   ]
  },
  {
   "cell_type": "markdown",
   "metadata": {
    "colab": {
     "base_uri": "https://localhost:8080/",
     "height": 87
    },
    "colab_type": "code",
    "executionInfo": {
     "elapsed": 569,
     "status": "ok",
     "timestamp": 1588015712191,
     "user": {
      "displayName": "Marius Robert",
      "photoUrl": "https://lh3.googleusercontent.com/a-/AOh14GjaLM2H8202sKHOvW7TqnMkERnXQqLHZxjUUQp2QA=s64",
      "userId": "05121221981387851592"
     },
     "user_tz": -180
    },
    "id": "xMVeP-cqFooo",
    "outputId": "a31944c7-3352-45de-a981-e142511413c6"
   },
   "source": [
    "initial_w1 = tf.compat.v1.truncated_normal(shape=[TOTAL_INPUTS, n_hidden1],stddev=0.1, seed=42)# initializare primului strat\n",
    "w1 = tf.compat.v1.Variable(initial_value=initial_w1)# creare weights"
   ]
  },
  {
   "cell_type": "markdown",
   "metadata": {
    "colab": {},
    "colab_type": "code",
    "id": "-oQYWtwJFoor"
   },
   "source": [
    "initial_b1 = tf.compat.v1.constant(value=0.0, shape=[n_hidden1])#initializare bias\n",
    "b1 = tf.compat.v1.Variable(initial_value=initial_b1) #crearea bias"
   ]
  },
  {
   "cell_type": "markdown",
   "metadata": {
    "colab": {},
    "colab_type": "code",
    "id": "OoSaRoDRFoov"
   },
   "source": [
    "layer1_in = tf.matmul(X,w1) + b1 # creaza features care merg in primul strat ascuns (hidden layer)"
   ]
  },
  {
   "cell_type": "markdown",
   "metadata": {
    "colab": {},
    "colab_type": "code",
    "id": "5c6BcXG-Foox"
   },
   "source": [
    "layer1_out = tf.nn.relu(layer1_in)# output pentru primul strat ascuns(hidden layer) este rezultatul calculat in aceasta funtie de activare"
   ]
  },
  {
   "cell_type": "markdown",
   "metadata": {
    "colab_type": "text",
    "id": "sVpwHd9NFoo0"
   },
   "source": [
    "***Provocare***: configurați al doilea strat posterior. Acest strat are 64 de neuroni și trebuie să lucreze la ieșirea primului strat ascuns (vezi mai sus). Apoi configurați stratul de ieșire. Rețineți că acel strat de ieșire va folosi funcția de activare softmax."
   ]
  },
  {
   "cell_type": "markdown",
   "metadata": {
    "colab": {},
    "colab_type": "code",
    "id": "DUjV2S7PFoo1"
   },
   "source": [
    "initial_w2 = tf.compat.v1.truncated_normal(shape=[n_hidden1,n_hidden2],stddev=0.1, seed=42)# initializare al doilea strat\n",
    "w2 = tf.compat.v1.Variable(initial_value=initial_w2)# creare weights\n",
    "\n",
    "initial_b2 = tf.compat.v1.constant(value=0.0, shape=[n_hidden2])#initializare bias\n",
    "b2 = tf.compat.v1.Variable(initial_value=initial_b2) #crearea bias\n",
    "\n",
    "layer2_in = tf.compat.v1.matmul(layer1_out,w2) + b2 # creaza features care merg in al doilea strat ascuns (hidden layer)\n",
    "\n",
    "layer2_out = tf.compat.v1.nn.relu(layer2_in)# output pentru al doilea strat ascuns(hidden layer) este rezultatul calculat in aceasta funtie de activare"
   ]
  },
  {
   "cell_type": "markdown",
   "metadata": {
    "colab": {},
    "colab_type": "code",
    "id": "JqZQXBueFoo4"
   },
   "source": [
    "initial_w3 = tf.compat.v1.truncated_normal(shape=[n_hidden2, n_output],stddev=0.1, seed=42)# initializare stratul de output\n",
    "w3 = tf.Variable(initial_value=initial_w3)# creare weights\n",
    "\n",
    "initial_b3 = tf.compat.v1.constant(value=0.0, shape=[n_output])#initializare bias\n",
    "b3 = tf.compat.v1.Variable(initial_value=initial_b3) #crearea bias\n",
    "\n",
    "layer3_in = tf.matmul(layer2_out, w3) + b3 # creaza features care merg in al treilea strat ascuns (hidden layer)\n",
    "\n",
    "output = tf.compat.v1.nn.softmax(layer3_in)# output , rezultatul final"
   ]
  },
  {
   "cell_type": "markdown",
   "metadata": {},
   "source": [
    "# Metoda 2"
   ]
  },
  {
   "cell_type": "code",
   "execution_count": 31,
   "metadata": {},
   "outputs": [],
   "source": [
    "def setup_layer(input, weight_dim, bias_dim, name):\n",
    "    \n",
    "    with tf.name_scope(name):\n",
    "        initial_w = tf.compat.v1.truncated_normal(shape=weight_dim, stddev=0.1, seed=42)\n",
    "        w = tf.compat.v1.Variable(initial_value=initial_w, name='W')\n",
    "\n",
    "        initial_b = tf.compat.v1.constant(value=0.0, shape=bias_dim)\n",
    "        b = tf.compat.v1.Variable(initial_value=initial_b, name='B')\n",
    "\n",
    "        layer_in = tf.matmul(input, w) + b\n",
    "        \n",
    "        if name=='out':\n",
    "            layer_out = tf.nn.softmax(layer_in)\n",
    "        else:\n",
    "            layer_out = tf.nn.relu(layer_in)\n",
    "        \n",
    "\n",
    "        \n",
    "        return layer_out"
   ]
  },
  {
   "cell_type": "code",
   "execution_count": 32,
   "metadata": {},
   "outputs": [
    {
     "output_type": "stream",
     "name": "stdout",
     "text": "WARNING:tensorflow:From C:\\Users\\Harum\\AppData\\Local\\Programs\\Python\\Python37\\lib\\site-packages\\tensorflow_core\\python\\ops\\resource_variable_ops.py:1635: calling BaseResourceVariable.__init__ (from tensorflow.python.ops.resource_variable_ops) with constraint is deprecated and will be removed in a future version.\nInstructions for updating:\nIf using Keras pass *_constraint arguments to layers.\nWARNING:tensorflow:From <ipython-input-32-bd4516e87753>:4: calling dropout (from tensorflow.python.ops.nn_ops) with keep_prob is deprecated and will be removed in a future version.\nInstructions for updating:\nPlease use `rate` instead of `keep_prob`. Rate should be set to `rate = 1 - keep_prob`.\n"
    }
   ],
   "source": [
    "layer_1 = setup_layer(X, weight_dim=[TOTAL_INPUTS, n_hidden1], \n",
    "                      bias_dim=[n_hidden1], name='layer_1')\n",
    "\n",
    "layer_drop = tf.compat.v1.nn.dropout(layer_1, keep_prob=0.8, name='dropout_layer')\n",
    "\n",
    "layer_2 = setup_layer(layer_drop, weight_dim=[n_hidden1, n_hidden2], \n",
    "                      bias_dim=[n_hidden2], name='layer_2')\n",
    "\n",
    "output = setup_layer(layer_2, weight_dim=[n_hidden2, NR_CLASSES], \n",
    "                      bias_dim=[NR_CLASSES], name='out')\n",
    "\n",
    "model_name = f'{n_hidden1}-DO-{n_hidden2} LR{learning_rate} E{nr_epochs}'"
   ]
  },
  {
   "cell_type": "markdown",
   "metadata": {
    "colab_type": "text",
    "id": "eBdA63BuFoo7"
   },
   "source": [
    "# Loss, Optimizare si Matrice"
   ]
  },
  {
   "cell_type": "markdown",
   "metadata": {
    "colab_type": "text",
    "id": "mjkJp2AsFoo8"
   },
   "source": [
    "# Definirea functiei Loss"
   ]
  },
  {
   "cell_type": "code",
   "execution_count": 33,
   "metadata": {
    "colab": {},
    "colab_type": "code",
    "id": "GobCxJOTFoo9"
   },
   "outputs": [],
   "source": [
    "with tf.name_scope('loss_calc'):\n",
    "    loss = tf.compat.v1.reduce_mean(tf.nn.softmax_cross_entropy_with_logits(labels=Y, logits=output))"
   ]
  },
  {
   "cell_type": "markdown",
   "metadata": {
    "colab_type": "text",
    "id": "o3_oJnpmFopB"
   },
   "source": [
    "# Definirea optimizatorului"
   ]
  },
  {
   "cell_type": "code",
   "execution_count": 34,
   "metadata": {
    "colab": {},
    "colab_type": "code",
    "id": "M99z931uFopC"
   },
   "outputs": [],
   "source": [
    "with tf.name_scope('optimizer'):   \n",
    "    optimizer = tf.compat.v1.train.AdamOptimizer(learning_rate=learning_rate)# spunem ca optimizator folosim, initalizam optimizatorul\n",
    "    \n",
    "    train_step = optimizer.minimize(loss)# spunem care loss trebui sa fie minimalizat"
   ]
  },
  {
   "cell_type": "markdown",
   "metadata": {
    "colab_type": "text",
    "id": "P_qCc1_MFopH"
   },
   "source": [
    "## Maticea de acuratete"
   ]
  },
  {
   "cell_type": "code",
   "execution_count": 35,
   "metadata": {
    "colab": {},
    "colab_type": "code",
    "id": "_yws4YDZFopJ"
   },
   "outputs": [],
   "source": [
    "with tf.name_scope('accuracy_calc'):\n",
    "    correct_pred = tf.equal(tf.argmax(output, axis=1), tf.argmax(Y, axis=1))\n",
    "    accuracy = tf.reduce_mean(tf.cast(correct_pred, tf.float32))# calculare acuratetei"
   ]
  },
  {
   "cell_type": "code",
   "execution_count": 36,
   "metadata": {},
   "outputs": [],
   "source": [
    "with tf.name_scope('performance'):\n",
    "    tf.summary.scalar('accuracy', accuracy)\n",
    "    tf.summary.scalar('cost', loss)"
   ]
  },
  {
   "cell_type": "markdown",
   "metadata": {
    "colab_type": "text",
    "id": "CBWabKlpFopM"
   },
   "source": [
    "# Run Session"
   ]
  },
  {
   "cell_type": "code",
   "execution_count": 37,
   "metadata": {
    "colab": {},
    "colab_type": "code",
    "id": "liAWwMdkFopM"
   },
   "outputs": [],
   "source": [
    "sess = tf.compat.v1.Session()"
   ]
  },
  {
   "cell_type": "code",
   "execution_count": 55,
   "metadata": {},
   "outputs": [],
   "source": [
    "merged_summary = tf.compat.v1.summary.merge_all()\n"
   ]
  },
  {
   "cell_type": "code",
   "execution_count": 56,
   "metadata": {
    "colab": {},
    "colab_type": "code",
    "id": "r9lVisPGFopP"
   },
   "outputs": [],
   "source": [
    "# Initializare toate variabilele\n",
    "init = tf.compat.v1.global_variables_initializer()\n",
    "sess.run(init)"
   ]
  },
  {
   "cell_type": "markdown",
   "metadata": {
    "colab": {
     "base_uri": "https://localhost:8080/",
     "height": 235
    },
    "colab_type": "code",
    "executionInfo": {
     "elapsed": 643,
     "status": "ok",
     "timestamp": 1588015744658,
     "user": {
      "displayName": "Marius Robert",
      "photoUrl": "https://lh3.googleusercontent.com/a-/AOh14GjaLM2H8202sKHOvW7TqnMkERnXQqLHZxjUUQp2QA=s64",
      "userId": "05121221981387851592"
     },
     "user_tz": -180
    },
    "id": "GQAmzcyBFopS",
    "outputId": "a87c4d4f-53a1-47a9-b374-19b8d7a5b3ae"
   },
   "source": [
    "w1.eval(sess)"
   ]
  },
  {
   "cell_type": "markdown",
   "metadata": {
    "colab": {
     "base_uri": "https://localhost:8080/",
     "height": 34
    },
    "colab_type": "code",
    "executionInfo": {
     "elapsed": 479,
     "status": "ok",
     "timestamp": 1588015747630,
     "user": {
      "displayName": "Marius Robert",
      "photoUrl": "https://lh3.googleusercontent.com/a-/AOh14GjaLM2H8202sKHOvW7TqnMkERnXQqLHZxjUUQp2QA=s64",
      "userId": "05121221981387851592"
     },
     "user_tz": -180
    },
    "id": "0f1fmWbrFopX",
    "outputId": "e88030a6-9ec0-4632-bc5a-1cb7caa96f19"
   },
   "source": [
    "b3.eval(sess)"
   ]
  },
  {
   "cell_type": "markdown",
   "metadata": {
    "colab_type": "text",
    "id": "KEvd_DQNFopd"
   },
   "source": [
    "# Batching the Data"
   ]
  },
  {
   "cell_type": "code",
   "execution_count": 57,
   "metadata": {
    "colab": {},
    "colab_type": "code",
    "id": "rUMaT4VUFopd"
   },
   "outputs": [],
   "source": [
    "size_of_batch = 1000"
   ]
  },
  {
   "cell_type": "code",
   "execution_count": 58,
   "metadata": {
    "colab": {},
    "colab_type": "code",
    "id": "cIOQ_J_8Fopg"
   },
   "outputs": [],
   "source": [
    "num_exemples = y_train.shape[0]\n",
    "nr_iterations = int(num_exemples/size_of_batch)\n",
    "\n",
    "index_in_epoch = 0"
   ]
  },
  {
   "cell_type": "code",
   "execution_count": 59,
   "metadata": {
    "colab": {},
    "colab_type": "code",
    "id": "zxY86_IMFopk"
   },
   "outputs": [],
   "source": [
    "def next_batch(batch_size, data, labels):\n",
    "\n",
    "    global num_exemples\n",
    "    global index_in_epoch\n",
    "\n",
    "    start = index_in_epoch\n",
    "    index_in_epoch += batch_size # = index_in_epoch + batch_size\n",
    "\n",
    "    if index_in_epoch > num_exemples:\n",
    "        start=0\n",
    "        index_in_epoch = batch_size\n",
    "\n",
    "    end = index_in_epoch\n",
    "\n",
    "    return data[start:end], labels[start:end]"
   ]
  },
  {
   "cell_type": "code",
   "execution_count": null,
   "metadata": {},
   "outputs": [],
   "source": []
  },
  {
   "cell_type": "markdown",
   "metadata": {
    "colab_type": "text",
    "id": "NvGb6_KBFopn"
   },
   "source": [
    "# Training Loop"
   ]
  },
  {
   "cell_type": "code",
   "execution_count": 71,
   "metadata": {
    "colab": {
     "base_uri": "https://localhost:8080/",
     "height": 229
    },
    "colab_type": "code",
    "executionInfo": {
     "elapsed": 616,
     "status": "error",
     "timestamp": 1588015868140,
     "user": {
      "displayName": "Marius Robert",
      "photoUrl": "https://lh3.googleusercontent.com/a-/AOh14GjaLM2H8202sKHOvW7TqnMkERnXQqLHZxjUUQp2QA=s64",
      "userId": "05121221981387851592"
     },
     "user_tz": -180
    },
    "id": "pCGJ_Kw7Fopo",
    "outputId": "e4bddce5-8344-4a72-8e98-69eead2f414c"
   },
   "outputs": [
    {
     "output_type": "stream",
     "name": "stdout",
     "text": "Epoch 0 \t| Training Acuratete = [0.921]\nEpoch 1 \t| Training Acuratete = [0.924]\nEpoch 2 \t| Training Acuratete = [0.924]\nEpoch 3 \t| Training Acuratete = [0.927]\nEpoch 4 \t| Training Acuratete = [0.93]\nDone training\n"
    }
   ],
   "source": [
    "for epoch in range(nr_epochs):\n",
    "    for i in range(nr_iterations):\n",
    "        batch_x, batch_y = next_batch(batch_size=size_of_batch, data= x_train, labels=y_train)\n",
    "        \n",
    "        feed_dictionary = {X:batch_x,  Y:batch_y}\n",
    "        \n",
    "        sess.run(train_step, feed_dict=feed_dictionary)\n",
    "\n",
    "        batch_accuracy = sess.run(fetches=[accuracy], feed_dict=feed_dictionary)\n",
    "    \n",
    "    print(f'Epoch {epoch} \\t| Training Acuratete = {batch_accuracy}')\n",
    "print('Done training')\n",
    "\n"
   ]
  },
  {
   "cell_type": "code",
   "execution_count": 61,
   "metadata": {
    "colab": {},
    "colab_type": "code",
    "id": "0EHO6X3MFopr"
   },
   "outputs": [
    {
     "output_type": "stream",
     "name": "stdout",
     "text": "Epoch 0 \t| Training Accuracy = [0.502]\nEpoch 1 \t| Training Accuracy = [0.717]\nEpoch 2 \t| Training Accuracy = [0.743]\nEpoch 3 \t| Training Accuracy = [0.839]\nEpoch 4 \t| Training Accuracy = [0.889]\nDone training!\n"
    }
   ],
   "source": [
    "for epoch in range(nr_epochs):\n",
    "    \n",
    "    # ============= Training Dataset =========\n",
    "    for i in range(nr_iterations):\n",
    "        \n",
    "        batch_x, batch_y = next_batch(batch_size=size_of_batch, data=x_train, labels=y_train)\n",
    "        \n",
    "        feed_dictionary = {X:batch_x, Y:batch_y}\n",
    "        \n",
    "        sess.run(train_step, feed_dict=feed_dictionary)\n",
    "        \n",
    "    \n",
    "    batch_accuracy = sess.run(fetches=[ accuracy], feed_dict=feed_dictionary)\n",
    "        \n",
    "    #train_writer.add_summary(s, epoch)\n",
    "    \n",
    "    print(f'Epoch {epoch} \\t| Training Accuracy = {batch_accuracy}')\n",
    "    \n",
    "\n",
    "    \n",
    "    \n",
    "\n",
    "print('Done training!')"
   ]
  },
  {
   "cell_type": "markdown",
   "metadata": {},
   "source": [
    "# Face o predictie"
   ]
  },
  {
   "cell_type": "code",
   "execution_count": 62,
   "metadata": {},
   "outputs": [
    {
     "output_type": "execute_result",
     "data": {
      "text/plain": "<PIL.PngImagePlugin.PngImageFile image mode=RGBA size=28x28 at 0x25B06C38108>",
      "image/png": "[encoded data removed]"
     },
     "metadata": {},
     "execution_count": 62
    }
   ],
   "source": [
    "img = Image.open('MNIST/test_img.png')\n",
    "img"
   ]
  },
  {
   "cell_type": "code",
   "execution_count": 63,
   "metadata": {},
   "outputs": [],
   "source": [
    "bw = img.convert('L')"
   ]
  },
  {
   "cell_type": "code",
   "execution_count": 64,
   "metadata": {},
   "outputs": [],
   "source": [
    "img_array = np.invert(bw)"
   ]
  },
  {
   "cell_type": "code",
   "execution_count": 65,
   "metadata": {},
   "outputs": [
    {
     "output_type": "execute_result",
     "data": {
      "text/plain": "(28, 28)"
     },
     "metadata": {},
     "execution_count": 65
    }
   ],
   "source": [
    "img_array.shape"
   ]
  },
  {
   "cell_type": "code",
   "execution_count": 66,
   "metadata": {},
   "outputs": [],
   "source": [
    "test_img = img_array.ravel()"
   ]
  },
  {
   "cell_type": "code",
   "execution_count": 67,
   "metadata": {},
   "outputs": [
    {
     "output_type": "execute_result",
     "data": {
      "text/plain": "(784,)"
     },
     "metadata": {},
     "execution_count": 67
    }
   ],
   "source": [
    "test_img.shape"
   ]
  },
  {
   "cell_type": "code",
   "execution_count": 68,
   "metadata": {},
   "outputs": [],
   "source": [
    "prediction = sess.run(fetches=tf.argmax(output, axis=1), feed_dict={X:[test_img]})"
   ]
  },
  {
   "cell_type": "code",
   "execution_count": 69,
   "metadata": {},
   "outputs": [
    {
     "output_type": "stream",
     "name": "stdout",
     "text": "Prediction for test image is [2]\n"
    }
   ],
   "source": [
    "print(f'Prediction for test image is {prediction}')"
   ]
  },
  {
   "cell_type": "markdown",
   "metadata": {},
   "source": [
    "# Testarea si Evaluare"
   ]
  },
  {
   "cell_type": "markdown",
   "metadata": {},
   "source": [
    "** Provocare: ** Calculați precizia peste setul de date de test (`` `x_test``` și` `` y_test```). Folosiți-vă cunoștințele despre rularea unei sesiuni pentru a obține precizia Afișați precizia ca un procent rotunjit la două numere zecimale."
   ]
  },
  {
   "cell_type": "code",
   "execution_count": 70,
   "metadata": {},
   "outputs": [
    {
     "output_type": "stream",
     "name": "stdout",
     "text": "Accuracy on test set is 87.83%\n"
    }
   ],
   "source": [
    "test_accuracy = sess.run(fetches=accuracy, feed_dict={X:x_test, Y:y_test})\n",
    "print(f'Accuracy on test set is {test_accuracy:0.2%}')"
   ]
  }
 ],
 "metadata": {
  "colab": {
   "name": "Neural Networks -TF Handwritings Recognition.ipynb",
   "provenance": []
  },
  "kernelspec": {
   "display_name": "Python 3.7.4 64-bit",
   "language": "python",
   "name": "python37464bit43b0aca25f3a478a89236e706d769e39"
  },
  "language_info": {
   "codemirror_mode": {
    "name": "ipython",
    "version": 3
   },
   "file_extension": ".py",
   "mimetype": "text/x-python",
   "name": "python",
   "nbconvert_exporter": "python",
   "pygments_lexer": "ipython3",
   "version": "3.7.4-final"
  }
 },
 "nbformat": 4,
 "nbformat_minor": 1
}